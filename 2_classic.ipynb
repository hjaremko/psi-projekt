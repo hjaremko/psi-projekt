{
 "cells": [
  {
   "cell_type": "markdown",
   "metadata": {},
   "source": [
    "# Klasyfikacja raka mózgu - Hubert Jaremko"
   ]
  },
  {
   "cell_type": "markdown",
   "metadata": {},
   "source": [
    "## Modele klasyczne"
   ]
  },
  {
   "cell_type": "code",
   "execution_count": 1,
   "metadata": {},
   "outputs": [],
   "source": [
    "import pandas as pd\n",
    "import numpy as np\n",
    "import seaborn as sn\n",
    "import matplotlib.pyplot as plt\n",
    "import matplotlib.image as mpimg\n",
    "from os import walk\n",
    "from PIL import Image\n",
    "\n",
    "import tensorflow as tf\n",
    "from tensorflow import keras\n",
    "from tensorflow.keras import layers\n",
    "from tensorflow.keras.models import Sequential\n",
    "from tensorflow.keras.layers import Dense\n",
    "from tensorflow.keras.callbacks import LearningRateScheduler\n",
    "from tensorflow.keras.callbacks import ModelCheckpoint\n",
    "from tensorflow.keras.callbacks import EarlyStopping\n",
    "from tensorflow.keras.layers import Dropout\n",
    "from tensorflow.keras.layers import BatchNormalization\n",
    "from tensorflow.keras.layers import Activation\n",
    "from tensorflow.keras.layers import Flatten\n",
    "from tensorflow.keras.layers import UpSampling2D\n",
    "from tensorflow.keras.layers import Conv2D, MaxPooling2D, AveragePooling2D\n",
    "from tensorflow.keras.callbacks import History\n",
    "from tensorflow.keras.preprocessing.image import ImageDataGenerator\n",
    "from sklearn import metrics\n",
    "from scipy.stats import reciprocal\n",
    "from sklearn.model_selection import RandomizedSearchCV\n",
    "import matplotlib.pyplot as plt \n",
    "from sklearn.preprocessing import LabelBinarizer\n",
    "from sklearn.metrics import roc_curve, auc, roc_auc_score\n",
    "from keras.utils import np_utils"
   ]
  },
  {
   "cell_type": "markdown",
   "metadata": {},
   "source": [
    "### Ustawienia"
   ]
  },
  {
   "cell_type": "code",
   "execution_count": 2,
   "metadata": {},
   "outputs": [],
   "source": [
    "cancer_type = {0 : 'Oponiak', 1 : 'Glejak', 2 : 'Guz przysadki'}"
   ]
  },
  {
   "cell_type": "code",
   "execution_count": 3,
   "metadata": {},
   "outputs": [],
   "source": [
    "# image_size = (512, 512)\n",
    "# image_size = (224, 224)\n",
    "# image_size = (128, 128)\n",
    "# image_size = (64, 64)\n",
    "image_size = (32, 32)\n",
    "batch_size = 32\n",
    "\n",
    "train_dir = \"data/train\"\n",
    "val_dir = \"data/val\""
   ]
  },
  {
   "cell_type": "markdown",
   "metadata": {},
   "source": [
    "## Funkcje pomocnicze"
   ]
  },
  {
   "cell_type": "code",
   "execution_count": 4,
   "metadata": {},
   "outputs": [],
   "source": [
    "def generator_to_array(data_generator):\n",
    "    data_list = []\n",
    "    batch_index = 0\n",
    "\n",
    "    while batch_index <= data_generator.batch_index:\n",
    "        data = data_generator.next()\n",
    "        data_list.append(data[0])\n",
    "        batch_index = batch_index + 1\n",
    "\n",
    "    data_array = np.asarray(data_list, dtype=object)\n",
    "    X = np.concatenate(data_array, axis=0)\n",
    "    y = data_generator.classes\n",
    "    y = np_utils.to_categorical(y)\n",
    "    return (X, y)"
   ]
  },
  {
   "cell_type": "code",
   "execution_count": 5,
   "metadata": {},
   "outputs": [],
   "source": [
    "def plot_metrics(history):\n",
    "    metrics = ['loss', 'categorical_accuracy', 'precision', 'recall']\n",
    "    plt.figure(figsize=(12, 7))\n",
    "    \n",
    "    for n, metric in enumerate(metrics):\n",
    "        name = metric.replace(\"_\", \" \").capitalize()\n",
    "        plt.subplot(2, 2, n + 1)\n",
    "        plt.plot(history.epoch, history.history[metric], label='Train')\n",
    "        plt.plot(history.epoch, history.history['val_' + metric], linestyle=\"--\", label='Validation')\n",
    "        plt.xlabel('Epoch')\n",
    "        plt.ylabel(name)\n",
    "        plt.ylim([0, 1])\n",
    "        plt.legend()"
   ]
  },
  {
   "cell_type": "code",
   "execution_count": 6,
   "metadata": {},
   "outputs": [],
   "source": [
    "def plot_confusion_matrix(y_pred, y_true):\n",
    "    plt.figure(figsize=(6, 5))\n",
    "    cm = metrics.confusion_matrix(y_pred=predicted_classes, y_true=true_classes)\n",
    "    sn.heatmap(cm, annot=True, fmt='g', cmap=\"RdPu\")\n",
    "    plt.show()"
   ]
  },
  {
   "cell_type": "code",
   "execution_count": 7,
   "metadata": {},
   "outputs": [],
   "source": [
    "target = ['Oponiak', 'Glejak', 'Guz przysadki']\n",
    "\n",
    "def binarize_labels(y_test):\n",
    "    lb = LabelBinarizer()\n",
    "    lb.fit(y_test)\n",
    "    y_test = lb.transform(y_test)\n",
    "    return y_test\n",
    "\n",
    "def multiclass_roc_auc_score(y_test, y_pred, c_ax, average=\"macro\"):\n",
    "    y_test = binarize_labels(y_test)\n",
    "#     y_pred = binarize_labels(y_pred)\n",
    "\n",
    "    for (idx, c_label) in enumerate(target):\n",
    "        fpr, tpr, thresholds = roc_curve(y_test[:,idx].astype(int), y_pred[:,idx])\n",
    "        c_ax.plot(fpr, tpr, label = f'{c_label} (AUC:{auc(fpr, tpr):0.2f})')\n",
    "\n",
    "    c_ax.plot(fpr, fpr, '--', color = '0.75', label = 'Random Guessing')\n",
    "    return roc_auc_score(y_test, y_pred, average=average)\n",
    "\n",
    "def plot_roc_curve(y_test, y_pred):\n",
    "    fig, c_ax = plt.subplots(1, 1, figsize = (5, 3))\n",
    "\n",
    "    print('ROC AUC score:', multiclass_roc_auc_score(y_test, y_pred, c_ax))\n",
    "\n",
    "    c_ax.legend()\n",
    "    c_ax.set_xlabel('False Positive Rate')\n",
    "    c_ax.set_ylabel('True Positive Rate')\n",
    "    plt.show()"
   ]
  },
  {
   "cell_type": "markdown",
   "metadata": {},
   "source": [
    "## Wczytanie zbioru testowego i walidacyjnego"
   ]
  },
  {
   "cell_type": "code",
   "execution_count": 8,
   "metadata": {},
   "outputs": [],
   "source": [
    "from os import walk\n",
    "from PIL import Image\n",
    "\n",
    "def read_brains(data, source, filenames, t):\n",
    "    for filename in filenames:\n",
    "        image = Image.open(f'data/{source}/{t}/{filename}').convert('L')\n",
    "        img = np.array(image)\n",
    "        data.append((img, t))"
   ]
  },
  {
   "cell_type": "code",
   "execution_count": 9,
   "metadata": {},
   "outputs": [],
   "source": [
    "# brains_data = []\n",
    "\n",
    "# _, _, type_1_filenames = next(walk('data/train/1/'))\n",
    "# _, _, type_2_filenames = next(walk('data/train/2/'))\n",
    "# _, _, type_3_filenames = next(walk('data/train/3/'))\n",
    "# read_brains(brains_data, 'train', type_1_filenames, 1)\n",
    "# read_brains(brains_data, 'train', type_2_filenames, 2)\n",
    "# read_brains(brains_data, 'train', type_3_filenames, 3)"
   ]
  },
  {
   "cell_type": "code",
   "execution_count": 10,
   "metadata": {},
   "outputs": [],
   "source": [
    "def read_brain_dir(directory):\n",
    "    brains_data = []\n",
    "\n",
    "    _, _, type_1_filenames = next(walk(f'data/{directory}/1/'))\n",
    "    _, _, type_2_filenames = next(walk(f'data/{directory}/2/'))\n",
    "    _, _, type_3_filenames = next(walk(f'data/{directory}/3/'))\n",
    "    read_brains(brains_data, directory, type_1_filenames, 1)\n",
    "    read_brains(brains_data, directory, type_2_filenames, 2)\n",
    "    read_brains(brains_data, directory, type_3_filenames, 3)\n",
    "    \n",
    "    return brains_data"
   ]
  },
  {
   "cell_type": "code",
   "execution_count": 11,
   "metadata": {},
   "outputs": [],
   "source": [
    "def raw_brain_data_to_dataframe(directory):\n",
    "    raw = read_brain_dir(directory)\n",
    "    return pd.DataFrame(data=raw, columns=['image', 'tumor_class'])"
   ]
  },
  {
   "cell_type": "code",
   "execution_count": 12,
   "metadata": {},
   "outputs": [
    {
     "name": "stdout",
     "output_type": "stream",
     "text": [
      "<class 'pandas.core.frame.DataFrame'>\n",
      "RangeIndex: 3678 entries, 0 to 3677\n",
      "Data columns (total 2 columns):\n",
      " #   Column       Non-Null Count  Dtype \n",
      "---  ------       --------------  ----- \n",
      " 0   image        3678 non-null   object\n",
      " 1   tumor_class  3678 non-null   int64 \n",
      "dtypes: int64(1), object(1)\n",
      "memory usage: 57.6+ KB\n"
     ]
    }
   ],
   "source": [
    "train_df = raw_brain_data_to_dataframe('train')\n",
    "train_df.info()"
   ]
  },
  {
   "cell_type": "code",
   "execution_count": 13,
   "metadata": {},
   "outputs": [],
   "source": [
    "# X_train / 255."
   ]
  },
  {
   "cell_type": "code",
   "execution_count": 14,
   "metadata": {},
   "outputs": [
    {
     "name": "stdout",
     "output_type": "stream",
     "text": [
      "<class 'pandas.core.frame.DataFrame'>\n",
      "RangeIndex: 600 entries, 0 to 599\n",
      "Data columns (total 2 columns):\n",
      " #   Column       Non-Null Count  Dtype \n",
      "---  ------       --------------  ----- \n",
      " 0   image        600 non-null    object\n",
      " 1   tumor_class  600 non-null    int64 \n",
      "dtypes: int64(1), object(1)\n",
      "memory usage: 9.5+ KB\n"
     ]
    }
   ],
   "source": [
    "test_df = raw_brain_data_to_dataframe('val')\n",
    "test_df.info()"
   ]
  },
  {
   "cell_type": "code",
   "execution_count": 15,
   "metadata": {},
   "outputs": [],
   "source": [
    "from sklearn.preprocessing import LabelEncoder\n",
    "\n",
    "def encode_labels(df):\n",
    "    X = df.drop(['tumor_class'], axis=1)\n",
    "    y = df['tumor_class'].values\n",
    "\n",
    "    label_encoder = LabelEncoder()\n",
    "    y = label_encoder.fit_transform(y)\n",
    "\n",
    "    print(\"X.shape: {} y.shape: {}\".format(X.shape, y.shape))\n",
    "    return (X, y)"
   ]
  },
  {
   "cell_type": "code",
   "execution_count": 29,
   "metadata": {},
   "outputs": [
    {
     "name": "stdout",
     "output_type": "stream",
     "text": [
      "X.shape: (3678, 1) y.shape: (3678,)\n"
     ]
    }
   ],
   "source": [
    "X_train, y_train = encode_labels(train_df)"
   ]
  },
  {
   "cell_type": "code",
   "execution_count": null,
   "metadata": {},
   "outputs": [],
   "source": [
    "X_test, y_test = encode_labels(test_df)"
   ]
  },
  {
   "cell_type": "code",
   "execution_count": 17,
   "metadata": {},
   "outputs": [],
   "source": [
    "from sklearn.base import BaseEstimator, TransformerMixin\n",
    "\n",
    "from skimage.transform import resize\n",
    "\n",
    "class Flattener(BaseEstimator, TransformerMixin):\n",
    "    def fit(self, X, y=None):\n",
    "        return self\n",
    "    def transform(self, X):\n",
    "#         arr = np.array([resize(x, image_size) for x in X['image'].values])\n",
    "        arr = np.array([resize(x, image_size) for x in X['image'].values])\n",
    "        return arr.reshape((-1, image_size[0] * image_size[1]))\n",
    "    \n",
    "class Normalizer(BaseEstimator, TransformerMixin):\n",
    "    def fit(self, X, y=None):\n",
    "        return self\n",
    "    def transform(self, X):\n",
    "        return X / 255."
   ]
  },
  {
   "cell_type": "code",
   "execution_count": 18,
   "metadata": {},
   "outputs": [],
   "source": [
    "from sklearn.pipeline import FeatureUnion\n",
    "\n",
    "preprocess_pipeline = FeatureUnion(transformer_list=[\n",
    "        # (\"augment_images\", Augmenter()),\n",
    "        (\"flatten_image\", Flattener()),\n",
    "#         (\"normalize\", Normalizer()),\n",
    "    ])"
   ]
  },
  {
   "cell_type": "code",
   "execution_count": 19,
   "metadata": {},
   "outputs": [],
   "source": [
    "# X_train, X_test, y_train, y_test = train_test_split(X, y, test_size=0.2, random_state=42)"
   ]
  },
  {
   "cell_type": "code",
   "execution_count": 20,
   "metadata": {},
   "outputs": [],
   "source": [
    "# train_generator = ImageDataGenerator(\n",
    "#     horizontal_flip=True,\n",
    "# #     vertical_flip=True,\n",
    "#     brightness_range=(0.8, 1.5)\n",
    "# #     brightness_range=(1.0, 2.0)\n",
    "# )\n",
    "\n",
    "# def get_train_generator():\n",
    "#     return train_generator.flow_from_directory(\n",
    "#             train_dir,\n",
    "#             target_size=image_size,\n",
    "#             batch_size=batch_size,\n",
    "#             class_mode='categorical',\n",
    "#             shuffle=True)\n",
    "\n",
    "# train_data_generator = get_train_generator()\n",
    "# train_steps_per_epoch = np.math.ceil(train_data_generator.samples / train_data_generator.batch_size)"
   ]
  },
  {
   "cell_type": "code",
   "execution_count": null,
   "metadata": {},
   "outputs": [],
   "source": []
  },
  {
   "cell_type": "code",
   "execution_count": 21,
   "metadata": {},
   "outputs": [],
   "source": [
    "# test_generator = ImageDataGenerator()\n",
    "\n",
    "# def get_test_generator():\n",
    "#     return test_generator.flow_from_directory(\n",
    "#             val_dir,\n",
    "#             target_size=image_size,\n",
    "#             batch_size=batch_size,\n",
    "#             class_mode='categorical',\n",
    "#             shuffle=False)\n",
    "\n",
    "# test_data_generator = get_test_generator()\n",
    "# test_steps_per_epoch = np.math.ceil(test_data_generator.samples / test_data_generator.batch_size)"
   ]
  },
  {
   "cell_type": "markdown",
   "metadata": {},
   "source": [
    "### Próbka zbioru treningowego"
   ]
  },
  {
   "cell_type": "code",
   "execution_count": 23,
   "metadata": {},
   "outputs": [],
   "source": [
    "# plt.figure(figsize=(10, 10))\n",
    "\n",
    "# b = next(train_data_generator)\n",
    "\n",
    "# images = b[0]\n",
    "# labels = b[1]\n",
    "\n",
    "# for i in range(9):\n",
    "#     ax = plt.subplot(3, 3, i + 1)\n",
    "#     image = images[i]\n",
    "#     label = labels[i]\n",
    "#     plt.imshow(image.astype(\"uint8\"))\n",
    "#     label = cancer_type[np.argmax(label)]\n",
    "#     plt.title(label)\n",
    "    \n",
    "# train_data_generator = get_train_generator()"
   ]
  },
  {
   "cell_type": "markdown",
   "metadata": {},
   "source": [
    "## Modele"
   ]
  },
  {
   "cell_type": "code",
   "execution_count": 24,
   "metadata": {},
   "outputs": [],
   "source": [
    "from sklearn.svm import SVC\n",
    "from sklearn.pipeline import Pipeline\n",
    "from sklearn.model_selection import GridSearchCV\n",
    "from sklearn.model_selection import RandomizedSearchCV\n",
    "from sklearn.model_selection import StratifiedKFold\n",
    "from sklearn.model_selection import train_test_split\n",
    "from scipy.stats.distributions import uniform, randint"
   ]
  },
  {
   "cell_type": "code",
   "execution_count": null,
   "metadata": {},
   "outputs": [],
   "source": [
    "# X_train, y_train = generator_to_array(get_train_generator())\n",
    "# X_test, y_test = generator_to_array(get_test_generator())"
   ]
  },
  {
   "cell_type": "code",
   "execution_count": null,
   "metadata": {},
   "outputs": [],
   "source": [
    "# from sklearn.preprocessing import LabelEncoder\n",
    "\n",
    "# yy_train = np.argmax(y_train, axis=1)\n",
    "# yy_test = np.argmax(y_test, axis=1)\n",
    "# label_encoder = LabelEncoder()\n",
    "# yy_train = label_encoder.fit_transform(yy_train)\n",
    "# yy_test = label_encoder.fit_transform(yy_test)"
   ]
  },
  {
   "cell_type": "code",
   "execution_count": null,
   "metadata": {},
   "outputs": [],
   "source": [
    "# XX_train = X_train.reshape(-1, image_size[0] * image_size[1] * 3)\n",
    "# XX_test = X_test.reshape(-1, image_size[0] * image_size[1] * 3)"
   ]
  },
  {
   "cell_type": "code",
   "execution_count": null,
   "metadata": {},
   "outputs": [],
   "source": [
    "# print(\"X.shape: {}\\ny.shape: {}\".format(XX_train.shape, yy_train.shape))"
   ]
  },
  {
   "cell_type": "code",
   "execution_count": 25,
   "metadata": {},
   "outputs": [],
   "source": [
    "seed=123\n",
    "kfold = StratifiedKFold(n_splits=5, shuffle=True, random_state=seed)"
   ]
  },
  {
   "cell_type": "code",
   "execution_count": null,
   "metadata": {},
   "outputs": [],
   "source": [
    "# from sklearn.utils import class_weight\n",
    "\n",
    "# y_ints = [y.argmax() for y in y_train]\n",
    "# class_weights = class_weight.compute_class_weight(class_weight='balanced', classes=np.unique(y_ints), y=y_ints)\n",
    "# class_weights = dict(enumerate(class_weights))\n",
    "# class_weights"
   ]
  },
  {
   "cell_type": "code",
   "execution_count": null,
   "metadata": {},
   "outputs": [],
   "source": []
  },
  {
   "cell_type": "markdown",
   "metadata": {},
   "source": [
    "### SVC linear"
   ]
  },
  {
   "cell_type": "code",
   "execution_count": 26,
   "metadata": {},
   "outputs": [],
   "source": [
    "pipe = Pipeline([\n",
    "    ('preprocessing', preprocess_pipeline),\n",
    "    ('classifier', SVC(kernel='rbf', probability=True, verbose=True))])\n",
    "\n",
    "\n",
    "param_grid = {\n",
    "            # 'classifier__C': [0.001, 0.01, 0.1, 1, 10, 100]\n",
    "            'classifier__C': [0.01]\n",
    "}\n",
    "\n",
    "grid_1 = GridSearchCV(pipe, param_grid, cv=kfold, error_score='raise')\n",
    "# grid_1 = GridSearchCV(pipe, param_grid, cv=kfold)\n",
    "\n",
    "# grid_1.fit(XX_train, yy_train)\n",
    "# grid_1.fit(X_train, y_train)\n",
    "# grid_1.best_params_"
   ]
  },
  {
   "cell_type": "code",
   "execution_count": 27,
   "metadata": {},
   "outputs": [],
   "source": [
    "# X_train = Normalizer().fit_transform(X_train)\n",
    "# y_train = Normalizer().fit_transform(y_train)"
   ]
  },
  {
   "cell_type": "code",
   "execution_count": 30,
   "metadata": {},
   "outputs": [
    {
     "name": "stdout",
     "output_type": "stream",
     "text": [
      "[LibSVM]"
     ]
    },
    {
     "data": {
      "text/plain": [
       "Pipeline(steps=[('preprocessing',\n",
       "                 FeatureUnion(transformer_list=[('flatten_image',\n",
       "                                                 Flattener())])),\n",
       "                ('classifier', SVC(probability=True, verbose=True))])"
      ]
     },
     "execution_count": 30,
     "metadata": {},
     "output_type": "execute_result"
    }
   ],
   "source": [
    "pipe.fit(X_train, y_train)"
   ]
  },
  {
   "cell_type": "code",
   "execution_count": null,
   "metadata": {},
   "outputs": [],
   "source": [
    "y_train"
   ]
  },
  {
   "cell_type": "code",
   "execution_count": 31,
   "metadata": {},
   "outputs": [],
   "source": [
    "models = []\n",
    "\n",
    "# models.append(('svm_rbf', grid_1.best_estimator_))\n",
    "models.append(('svm_rbf', pipe))"
   ]
  },
  {
   "cell_type": "code",
   "execution_count": 32,
   "metadata": {},
   "outputs": [
    {
     "name": "stdout",
     "output_type": "stream",
     "text": [
      "svm_rbf done.\n"
     ]
    }
   ],
   "source": [
    "predictions = {}\n",
    "\n",
    "for name, model in models:\n",
    "#     predictions[name] = (model.predict_proba(XX_test), model.predict(XX_test))\n",
    "#     predictions[name] = (model.predict_proba(X_test), model.predict(X_test))\n",
    "    probas = model.predict_proba(X_test);\n",
    "    predictions[name] = (probas, np.argmax(probas, axis=1))\n",
    "#     predictions[name] = ([], model.predict(X_train))\n",
    "    print(f'{name} done.')\n",
    "#     "
   ]
  },
  {
   "cell_type": "code",
   "execution_count": 33,
   "metadata": {},
   "outputs": [
    {
     "name": "stdout",
     "output_type": "stream",
     "text": [
      "svm_rbf\n",
      "              precision    recall  f1-score   support\n",
      "\n",
      "           0       0.89      0.79      0.84       200\n",
      "           1       0.83      0.90      0.86       200\n",
      "           2       0.94      0.98      0.96       200\n",
      "\n",
      "    accuracy                           0.89       600\n",
      "   macro avg       0.89      0.89      0.89       600\n",
      "weighted avg       0.89      0.89      0.89       600\n",
      "\n"
     ]
    },
    {
     "data": {
      "image/png": "[encoded data removed]",
      "text/plain": [
       "<Figure size 432x360 with 2 Axes>"
      ]
     },
     "metadata": {
      "needs_background": "light"
     },
     "output_type": "display_data"
    },
    {
     "name": "stdout",
     "output_type": "stream",
     "text": [
      "ROC AUC score: 0.9726083333333332\n"
     ]
    },
    {
     "data": {
      "image/png": "[encoded data removed]",
      "text/plain": [
       "<Figure size 360x216 with 1 Axes>"
      ]
     },
     "metadata": {
      "needs_background": "light"
     },
     "output_type": "display_data"
    }
   ],
   "source": [
    "for name, model in models:\n",
    "    print(name)\n",
    "    true_classes = y_test\n",
    "    predicted_probas, predicted_classes = predictions[name]\n",
    "\n",
    "    report = metrics.classification_report(true_classes, predicted_classes)\n",
    "\n",
    "    print(report)\n",
    "    plot_confusion_matrix(predicted_classes, true_classes)   \n",
    "    plot_roc_curve(true_classes, predicted_probas)"
   ]
  },
  {
   "cell_type": "code",
   "execution_count": null,
   "metadata": {},
   "outputs": [],
   "source": [
    "def print_proba(score, i):\n",
    "    print(\n",
    "    f\"{cancer_type[i]} : {score[i] * 100:0.2f}%\"\n",
    ")"
   ]
  },
  {
   "cell_type": "code",
   "execution_count": null,
   "metadata": {},
   "outputs": [],
   "source": [
    "img = keras.preprocessing.image.load_img(\n",
    "    \"data/val/3/13.jpg\", target_size=image_size\n",
    ")\n",
    "img_array = keras.preprocessing.image.img_to_array(img)\n",
    "img_array = tf.expand_dims(img_array, 0)\n",
    "# print(X_train.shape)\n",
    "\n",
    "p = model.predict_proba(img_array)\n",
    "score = p[0]\n",
    "print(score)\n",
    "print_proba(score, 0)\n",
    "print_proba(score, 1)\n",
    "print_proba(score, 2)"
   ]
  },
  {
   "cell_type": "code",
   "execution_count": null,
   "metadata": {},
   "outputs": [],
   "source": []
  }
 ],
 "metadata": {
  "kernelspec": {
   "display_name": "Python 3",
   "language": "python",
   "name": "python3"
  },
  "language_info": {
   "codemirror_mode": {
    "name": "ipython",
    "version": 3
   },
   "file_extension": ".py",
   "mimetype": "text/x-python",
   "name": "python",
   "nbconvert_exporter": "python",
   "pygments_lexer": "ipython3",
   "version": "3.9.2"
  }
 },
 "nbformat": 4,
 "nbformat_minor": 2
}
