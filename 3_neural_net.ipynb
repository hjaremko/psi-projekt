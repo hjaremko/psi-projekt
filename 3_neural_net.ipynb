{
 "cells": [
  {
   "cell_type": "markdown",
   "metadata": {},
   "source": [
    "# Klasyfikacja raka mózgu - Hubert Jaremko"
   ]
  },
  {
   "cell_type": "markdown",
   "metadata": {},
   "source": [
    "## Sieć neuronowa"
   ]
  },
  {
   "cell_type": "code",
   "execution_count": null,
   "metadata": {},
   "outputs": [],
   "source": [
    "import pandas as pd\n",
    "import numpy as np\n",
    "import seaborn as sn\n",
    "import matplotlib.pyplot as plt\n",
    "import matplotlib.image as mpimg\n",
    "from os import walk\n",
    "from PIL import Image\n",
    "\n",
    "import tensorflow as tf\n",
    "from tensorflow import keras\n",
    "from tensorflow.keras import layers\n",
    "from tensorflow.keras.models import Sequential\n",
    "from tensorflow.keras.layers import Dense\n",
    "from tensorflow.keras.callbacks import LearningRateScheduler\n",
    "from tensorflow.keras.callbacks import ModelCheckpoint\n",
    "from tensorflow.keras.callbacks import EarlyStopping\n",
    "from tensorflow.keras.layers import Dropout\n",
    "from tensorflow.keras.layers import BatchNormalization\n",
    "from tensorflow.keras.layers import Activation\n",
    "from tensorflow.keras.layers import Flatten\n",
    "from tensorflow.keras.layers import UpSampling2D\n",
    "from tensorflow.keras.layers import Conv2D, MaxPooling2D, AveragePooling2D\n",
    "from tensorflow.keras.callbacks import History\n",
    "from tensorflow.keras.preprocessing.image import ImageDataGenerator\n",
    "from sklearn import metrics\n",
    "from scipy.stats import reciprocal\n",
    "from sklearn.model_selection import RandomizedSearchCV\n",
    "import matplotlib.pyplot as plt \n",
    "from sklearn.preprocessing import LabelBinarizer\n",
    "from sklearn.metrics import roc_curve, auc, roc_auc_score\n",
    "from keras.utils import np_utils"
   ]
  },
  {
   "cell_type": "markdown",
   "metadata": {},
   "source": [
    "### Ustawienia"
   ]
  },
  {
   "cell_type": "code",
   "execution_count": null,
   "metadata": {},
   "outputs": [],
   "source": [
    "cancer_type = {0 : 'Oponiak', 1 : 'Glejak', 2 : 'Guz przysadki'}"
   ]
  },
  {
   "cell_type": "code",
   "execution_count": null,
   "metadata": {},
   "outputs": [],
   "source": [
    "# image_size = (512, 512)\n",
    "# image_size = (224, 224)\n",
    "# image_size = (128, 128)\n",
    "# image_size = (64, 64)\n",
    "image_size = (32, 32)\n",
    "batch_size = 32\n",
    "\n",
    "train_dir = \"data/train\"\n",
    "val_dir = \"data/val\""
   ]
  },
  {
   "cell_type": "markdown",
   "metadata": {},
   "source": [
    "## Funkcje pomocnicze"
   ]
  },
  {
   "cell_type": "code",
   "execution_count": null,
   "metadata": {},
   "outputs": [],
   "source": [
    "def generator_to_array(data_generator):\n",
    "    data_list = []\n",
    "    batch_index = 0\n",
    "\n",
    "    while batch_index <= data_generator.batch_index:\n",
    "        data = data_generator.next()\n",
    "        data_list.append(data[0])\n",
    "        batch_index = batch_index + 1\n",
    "\n",
    "    data_array = np.asarray(data_list, dtype=object)\n",
    "    X = np.concatenate(data_array, axis=0)\n",
    "    y = data_generator.classes\n",
    "    y = np_utils.to_categorical(y)\n",
    "    return (X, y)"
   ]
  },
  {
   "cell_type": "code",
   "execution_count": null,
   "metadata": {},
   "outputs": [],
   "source": [
    "def plot_metrics(history):\n",
    "    metrics = ['loss', 'categorical_accuracy', 'precision', 'recall']\n",
    "    plt.figure(figsize=(12, 7))\n",
    "    \n",
    "    for n, metric in enumerate(metrics):\n",
    "        name = metric.replace(\"_\", \" \").capitalize()\n",
    "        plt.subplot(2, 2, n + 1)\n",
    "        plt.plot(history.epoch, history.history[metric], label='Train')\n",
    "        plt.plot(history.epoch, history.history['val_' + metric], linestyle=\"--\", label='Validation')\n",
    "        plt.xlabel('Epoch')\n",
    "        plt.ylabel(name)\n",
    "        plt.ylim([0, 1])\n",
    "        plt.legend()"
   ]
  },
  {
   "cell_type": "code",
   "execution_count": null,
   "metadata": {},
   "outputs": [],
   "source": [
    "def plot_confusion_matrix(y_pred, y_true):\n",
    "    plt.figure(figsize=(6, 5))\n",
    "    cm = metrics.confusion_matrix(y_pred=predicted_classes, y_true=true_classes)\n",
    "    sn.heatmap(cm, annot=True, fmt='g', cmap=\"RdPu\")\n",
    "    plt.show()"
   ]
  },
  {
   "cell_type": "code",
   "execution_count": null,
   "metadata": {},
   "outputs": [],
   "source": [
    "target = ['Oponiak', 'Glejak', 'Guz przysadki']\n",
    "\n",
    "def multiclass_roc_auc_score(y_test, y_pred, c_ax, average=\"macro\"):\n",
    "\n",
    "    for (idx, c_label) in enumerate(target):\n",
    "        fpr, tpr, thresholds = roc_curve(y_test[:,idx].astype(int), y_pred[:,idx])\n",
    "        c_ax.plot(fpr, tpr, label = f'{c_label} (AUC:{auc(fpr, tpr):0.2f})')\n",
    "\n",
    "    c_ax.plot(fpr, fpr, '--', color = '0.75', label = 'Random Guessing')\n",
    "    return roc_auc_score(y_test, y_pred, average=average)\n",
    "\n",
    "def plot_roc_curve(y_test, y_pred):\n",
    "    fig, c_ax = plt.subplots(1, 1, figsize = (5, 3))\n",
    "\n",
    "    print('ROC AUC score:', multiclass_roc_auc_score(y_test, y_pred, c_ax))\n",
    "\n",
    "    c_ax.legend()\n",
    "    c_ax.set_xlabel('False Positive Rate')\n",
    "    c_ax.set_ylabel('True Positive Rate')\n",
    "    plt.show()"
   ]
  },
  {
   "cell_type": "markdown",
   "metadata": {},
   "source": [
    "## Wczytanie zbioru testowego i walidacyjnego\n",
    "\n",
    "*Augmentacja danych* - losowe odbijanie w poziomie i pionie oraz zmiana jasności obrazu."
   ]
  },
  {
   "cell_type": "code",
   "execution_count": null,
   "metadata": {},
   "outputs": [],
   "source": [
    "train_generator = ImageDataGenerator(\n",
    "    horizontal_flip=True,\n",
    "    vertical_flip=True,\n",
    "    brightness_range=(0.5, 1.5)\n",
    "#     brightness_range=(1.0, 2.0)\n",
    ")\n",
    "\n",
    "def get_train_generator():\n",
    "    return train_generator.flow_from_directory(\n",
    "            train_dir,\n",
    "            target_size=image_size,\n",
    "            batch_size=batch_size,\n",
    "            class_mode='categorical',\n",
    "            shuffle=True)\n",
    "\n",
    "train_data_generator = get_train_generator()\n",
    "train_steps_per_epoch = np.math.ceil(train_data_generator.samples / train_data_generator.batch_size)"
   ]
  },
  {
   "cell_type": "code",
   "execution_count": null,
   "metadata": {},
   "outputs": [],
   "source": [
    "test_generator = ImageDataGenerator()\n",
    "\n",
    "def get_test_generator():\n",
    "    return test_generator.flow_from_directory(\n",
    "            val_dir,\n",
    "            target_size=image_size,\n",
    "            batch_size=batch_size,\n",
    "            class_mode='categorical',\n",
    "            shuffle=False)\n",
    "\n",
    "test_data_generator = get_test_generator()\n",
    "test_steps_per_epoch = np.math.ceil(test_data_generator.samples / test_data_generator.batch_size)"
   ]
  },
  {
   "cell_type": "markdown",
   "metadata": {},
   "source": [
    "### Próbka zbioru treningowego"
   ]
  },
  {
   "cell_type": "code",
   "execution_count": null,
   "metadata": {},
   "outputs": [],
   "source": [
    "plt.figure(figsize=(10, 10))\n",
    "\n",
    "b = next(train_data_generator)\n",
    "\n",
    "images = b[0]\n",
    "labels = b[1]\n",
    "\n",
    "for i in range(9):\n",
    "    ax = plt.subplot(3, 3, i + 1)\n",
    "    image = images[i]\n",
    "    label = labels[i]\n",
    "    plt.imshow(image.astype(\"uint8\"))\n",
    "    label = cancer_type[np.argmax(label)]\n",
    "    plt.title(label)\n",
    "    \n",
    "train_data_generator = get_train_generator()"
   ]
  },
  {
   "cell_type": "markdown",
   "metadata": {},
   "source": [
    "## Model"
   ]
  },
  {
   "cell_type": "code",
   "execution_count": null,
   "metadata": {},
   "outputs": [],
   "source": [
    "def build_model(n_hidden=1, n_neurons=30, learning_rate=3e-3, optimizer=\"adam\"):\n",
    "    model = keras.models.Sequential()\n",
    "    model.add(keras.layers.InputLayer(input_shape=image_size + (3,)))\n",
    "    model.add(layers.experimental.preprocessing.Rescaling(1.0 / 255))\n",
    "    model.add(Flatten())\n",
    "    \n",
    "    model.add(keras.layers.Dense(300, activation = 'relu' ))\n",
    "    model.add(keras.layers.Dense(100, activation = 'relu' ))\n",
    "    model.add(keras.layers.Dense(100, activation = 'relu' ))\n",
    "    model.add(keras.layers.Dense(100, activation = 'relu' ))\n",
    "    \n",
    "#     for layer in range(n_hidden):\n",
    "#         model.add(keras.layers.Dense(n_neurons, activation=\"relu\"))\n",
    "        \n",
    "    model.add(keras.layers.Dense(3, activation=\"softmax\"))\n",
    "    \n",
    "    optimizer = keras.optimizers.Adam(learning_rate=learning_rate)\n",
    "#     optimized = 'sgd'\n",
    "    \n",
    "    model.compile(\n",
    "        optimizer=optimizer,\n",
    "        loss=\"categorical_crossentropy\",\n",
    "        metrics=[\n",
    "            \"categorical_accuracy\",\n",
    "            \"accuracy\",\n",
    "            keras.metrics.Precision(name='precision'),\n",
    "            keras.metrics.Recall(name='recall'),\n",
    "            keras.metrics.AUC(name='auc'),\n",
    "        ],\n",
    "    )\n",
    "\n",
    "    return model"
   ]
  },
  {
   "cell_type": "code",
   "execution_count": null,
   "metadata": {},
   "outputs": [],
   "source": [
    "model = tf.keras.wrappers.scikit_learn.KerasClassifier(build_model)"
   ]
  },
  {
   "cell_type": "code",
   "execution_count": null,
   "metadata": {},
   "outputs": [],
   "source": [
    "build_model().summary()"
   ]
  },
  {
   "cell_type": "code",
   "execution_count": null,
   "metadata": {},
   "outputs": [],
   "source": [
    "X_train, y_train = generator_to_array(train_data_generator)\n",
    "X_test, y_test = generator_to_array(test_data_generator)"
   ]
  },
  {
   "cell_type": "code",
   "execution_count": null,
   "metadata": {},
   "outputs": [],
   "source": [
    "X_train.shape"
   ]
  },
  {
   "cell_type": "code",
   "execution_count": null,
   "metadata": {},
   "outputs": [],
   "source": [
    "y_train.shape"
   ]
  },
  {
   "cell_type": "code",
   "execution_count": null,
   "metadata": {},
   "outputs": [],
   "source": [
    "from sklearn.utils import class_weight\n",
    "\n",
    "y_ints = [y.argmax() for y in y_train]\n",
    "class_weights = class_weight.compute_class_weight(class_weight='balanced', classes=np.unique(y_ints), y=y_ints)\n",
    "class_weights = dict(enumerate(class_weights))\n",
    "class_weights"
   ]
  },
  {
   "cell_type": "code",
   "execution_count": null,
   "metadata": {},
   "outputs": [],
   "source": [
    "epochs = 50\n",
    "\n",
    "param_distribs = {\n",
    "    \"n_hidden\": [2, 3, 4],\n",
    "    \"n_neurons\": np.arange(100, 400),\n",
    "    \"learning_rate\": [0.01, 0.001, 0.0001],\n",
    "#     \"optimizer\": ['SGD', 'RMSprop', 'Adam', 'Adadelta', 'Adagrad', 'Adamax', 'Nadam', 'Ftrl']\n",
    "#     \"optimizer\": ['Adam']\n",
    "}\n",
    "\n",
    "\n",
    "callbacks = [\n",
    "#     keras.callbacks.ModelCheckpoint(\"save_at_{epoch}.h5\"),\n",
    "    EarlyStopping(monitor='val_loss', patience=10, mode='min', verbose=1),\n",
    "]\n",
    "\n",
    "rnd_search_cv = RandomizedSearchCV(model, param_distribs, n_iter=5, cv=5, verbose=2)\n",
    "# rnd_search_cv = RandomizedSearchCV(model, param_distribs, n_iter=1, cv=2, verbose=2)\n",
    "# rnd_search_cv.fit(\n",
    "history = History()\n",
    "history = model.fit(\n",
    "    X_train,\n",
    "#     X_test,\n",
    "    y_train,\n",
    "#     y_test,\n",
    "    epochs=epochs, \n",
    "    validation_split=0.2,\n",
    "    callbacks=callbacks,\n",
    "    class_weight=class_weights,\n",
    ")"
   ]
  },
  {
   "cell_type": "code",
   "execution_count": null,
   "metadata": {},
   "outputs": [],
   "source": [
    "rnd_search_cv.best_params_"
   ]
  },
  {
   "cell_type": "code",
   "execution_count": null,
   "metadata": {},
   "outputs": [],
   "source": [
    "model = rnd_search_cv.best_estimator_\n",
    "\n",
    "history = History()\n",
    "\n",
    "history = model.fit(\n",
    "    X_train,\n",
    "    y_train,\n",
    "    epochs=epochs, \n",
    "    validation_split=0.2,\n",
    "    callbacks=callbacks,\n",
    ")"
   ]
  },
  {
   "cell_type": "code",
   "execution_count": null,
   "metadata": {},
   "outputs": [],
   "source": [
    "plot_metrics(history)"
   ]
  },
  {
   "cell_type": "code",
   "execution_count": null,
   "metadata": {},
   "outputs": [],
   "source": [
    "predictions = model.predict_proba(X_test)\n",
    "predicted_classes = model.predict(X_test)\n",
    "\n",
    "true_classes = np.argmax(y_test, axis=1)\n",
    "class_labels = list(test_data_generator.class_indices.keys())"
   ]
  },
  {
   "cell_type": "code",
   "execution_count": null,
   "metadata": {},
   "outputs": [],
   "source": [
    "report = metrics.classification_report(true_classes, predicted_classes, target_names=class_labels)\n",
    "print(report)    "
   ]
  },
  {
   "cell_type": "code",
   "execution_count": null,
   "metadata": {},
   "outputs": [],
   "source": [
    "plot_confusion_matrix(predicted_classes, true_classes)"
   ]
  },
  {
   "cell_type": "code",
   "execution_count": null,
   "metadata": {},
   "outputs": [],
   "source": [
    "plot_roc_curve(y_test, predictions)\n",
    "# plot_roc_curve(y_train, predictions)"
   ]
  },
  {
   "cell_type": "code",
   "execution_count": null,
   "metadata": {},
   "outputs": [],
   "source": [
    "def print_proba(score, i):\n",
    "    print(\n",
    "    f\"{cancer_type[i]} : {score[i] * 100:0.2f}%\"\n",
    ")"
   ]
  },
  {
   "cell_type": "code",
   "execution_count": null,
   "metadata": {},
   "outputs": [],
   "source": [
    "img = keras.preprocessing.image.load_img(\n",
    "    \"data/val/3/13.jpg\", target_size=image_size\n",
    ")\n",
    "img_array = keras.preprocessing.image.img_to_array(img)\n",
    "img_array = tf.expand_dims(img_array, 0)\n",
    "# print(X_train.shape)\n",
    "\n",
    "p = model.predict_proba(img_array)\n",
    "score = p[0]\n",
    "print(score)\n",
    "print_proba(score, 0)\n",
    "print_proba(score, 1)\n",
    "print_proba(score, 2)"
   ]
  },
  {
   "cell_type": "code",
   "execution_count": null,
   "metadata": {},
   "outputs": [],
   "source": []
  }
 ],
 "metadata": {
  "kernelspec": {
   "display_name": "Python 3",
   "language": "python",
   "name": "python3"
  },
  "language_info": {
   "codemirror_mode": {
    "name": "ipython",
    "version": 3
   },
   "file_extension": ".py",
   "mimetype": "text/x-python",
   "name": "python",
   "nbconvert_exporter": "python",
   "pygments_lexer": "ipython3",
   "version": "3.9.2"
  }
 },
 "nbformat": 4,
 "nbformat_minor": 2
}
